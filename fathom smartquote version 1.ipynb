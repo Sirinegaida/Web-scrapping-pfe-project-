{
 "cells": [
  {
   "cell_type": "code",
   "execution_count": 1,
   "id": "fb4986b3",
   "metadata": {},
   "outputs": [],
   "source": [
    "import selenium\n",
    "import time\n",
    "import pymongo\n",
    "import requests\n",
    "import urllib.request\n",
    "import os\n",
    "import pyautogui\n",
    "import pandas as pd\n",
    "\n",
    "from time import sleep\n",
    "from selenium import webdriver \n",
    "from bs4 import BeautifulSoup\n",
    "from selenium.webdriver.support.wait import WebDriverWait\n",
    "from selenium.webdriver.support import expected_conditions as EC\n",
    "from selenium.webdriver.common.by import By\n",
    "from lxml import html\n"
   ]
  },
  {
   "cell_type": "code",
   "execution_count": 2,
   "id": "6d2d7f69",
   "metadata": {},
   "outputs": [],
   "source": [
    "url = 'https://smartquote.fathommfg.com'"
   ]
  },
  {
   "cell_type": "code",
   "execution_count": 15,
   "id": "fd600cf5",
   "metadata": {},
   "outputs": [],
   "source": [
    "#Open web browser and navigate to url\n",
    "browser = webdriver.Chrome()\n",
    "response = browser.get(url)\n",
    "\n",
    "#wait amount of time to load page \n",
    "browser.implicitly_wait(5)\n",
    "#select technology\n",
    "technology=browser.find_element('xpath','//*[@id=\"app\"]/div/div/div[1]/div[2]/main/div/div[2]/div/div[2]/div/div[1]')\n",
    "technology.click()\n",
    "\n",
    "#accept the coockies\n",
    "COOKIES=browser.find_element('xpath','//*[@id=\"onetrust-accept-btn-handler\"]')\n",
    "COOKIES.click()\n",
    "\n",
    "#choose a random 3D Model \n",
    "pièce_dexemple = browser.find_element('xpath','//*[@id=\"app\"]/div/div/div[1]/div[2]/main/div/div[3]/div/div[2]/div/div')\n",
    "pièce_dexemple.click()\n",
    "sleep(3)\n",
    "pyautogui.typewrite(\"models\")\n",
    "time.sleep(1)\n",
    "pyautogui.press('enter')\n",
    "time.sleep(1)\n",
    "#pyautogui.scroll(10000000)\n",
    "pyautogui.typewrite(\"first.stl\")\n",
    "pyautogui.press('enter')\n",
    "\n",
    "#login \n",
    "sleep(3)\n",
    "Login = browser.find_element('xpath','//*[@id=\"app\"]/div/div/div[4]/div[2]/div/div/div/div/div[1]/div[1]')\n",
    "Login.click()\n",
    "\n",
    "#target username and password\n",
    "email = WebDriverWait(browser, 5).until(EC.element_to_be_clickable(('xpath', '//*[@id=\"app\"]/div/div/div[4]/div[2]/div/div/div/div/div[2]/form/div[1]/div/div/div/input')))\n",
    "password = WebDriverWait(browser, 5).until(EC.element_to_be_clickable(('xpath', '//*[@id=\"app\"]/div/div/div[4]/div[2]/div/div/div/div/div[2]/form/div[2]/div/div/div/input')))\n",
    "#enter email and password\n",
    "email.send_keys(\"sirine@seekmake.com\") # please insert your user_name here \n",
    "password.clear()\n",
    "password.send_keys(\"sirine2000\") # please insert your password here \n",
    "loginbutton = WebDriverWait(browser, 5).until(EC.element_to_be_clickable(('xpath', '//*[@id=\"sqlogin\"]')))\n",
    "loginbutton.click()\n",
    "\n",
    "#check \n",
    "check= WebDriverWait(browser, 10).until(EC.element_to_be_clickable(('xpath', '/html/body/div[1]/div/div/div[1]/div[2]/main/div/div[5]/div/label')))\n",
    "check.click()\n",
    "#specify unit\n",
    "mm = WebDriverWait(browser, 5).until(EC.element_to_be_clickable(('xpath', '//*[@id=\"app\"]/div/div/div[1]/div[2]/main/div/div[3]/div/div[2]/div/div/div[2]/div/div[2]/div/div/div/div[1]')))\n",
    "mm.click()\n",
    "sleep(5)\n",
    "\n",
    "#start quoting\n",
    "button=WebDriverWait(browser, 5).until(EC.element_to_be_clickable(('xpath', '/html/body/div[1]/div/div/div[1]/div[2]/main/div/div[6]/div/div/div')))\n",
    "button.click()\n",
    "\n",
    "\n",
    "\n",
    "\n",
    "\n"
   ]
  },
  {
   "cell_type": "code",
   "execution_count": 17,
   "id": "29f1e769",
   "metadata": {},
   "outputs": [],
   "source": [
    "def FDMcheck():\n",
    "    FDMcheck= WebDriverWait(browser, 5).until(EC.element_to_be_clickable(('xpath', '//*[@id=\"app\"]/div/div/div[1]/div[1]/main/div[1]/div/div[3]/div/div[1]/div[2]/div[2]/div/div/div[5]/div[1]/div/div/span')))\n",
    "    FDMcheck.click()\n",
    "    FDMcheckclick=WebDriverWait(browser, 10).until(EC.element_to_be_clickable(('xpath', '/html/body/div[1]/div/div/div[1]/div[1]/main/div[1]/div/div[3]/div/div[1]/div[2]/div[2]/div/div/div[5]/div[1]/div/div[2]/div[2]')))\n",
    "    FDMcheckclick.click()\n",
    "    "
   ]
  },
  {
   "cell_type": "code",
   "execution_count": 18,
   "id": "e51f78cb",
   "metadata": {},
   "outputs": [],
   "source": [
    "sleep(5)\n",
    "FDMcheck()"
   ]
  },
  {
   "cell_type": "code",
   "execution_count": 19,
   "id": "328fba06",
   "metadata": {},
   "outputs": [],
   "source": [
    "def extract_3DModel():\n",
    "    model_info_list = [] \n",
    "  \n",
    "    model_names = browser.find_elements('class name','part__name')\n",
    "    technology= browser.find_elements('xpath','//*[@id=\"app\"]/div/div/div[1]/div[1]/main/div[1]/div/div[3]/div/div[1]/div[2]/div[2]/div/div/div[5]/div[1]/div/div/span')\n",
    "    dimensions = browser.find_elements('class name','part__dimensions')   \n",
    "    finishs=browser.find_element('xpath','/html/body/div[1]/div/div/div[1]/div[1]/main/div[1]/div/div[3]/div/div[1]/div[2]/div[2]/div/div/div[7]/div[1]/div/div/span')\n",
    "    prices = browser.find_elements('class name','part-price')\n",
    "    materials = browser.find_elements('xpath', '//*[@id=\"app\"]/div/div/div[1]/div[1]/main/div[1]/div/div[3]/div/div[1]/div[2]/div[2]/div/div/div[6]/div[1]/div/div/span')\n",
    "   \n",
    "    \n",
    "    print(\"The data frame of model information:\")\n",
    "\n",
    "    for i in range(len(model_names)):\n",
    "        model_info = {}\n",
    "        model_info[\"name\"] = model_names[i].text\n",
    "        model_info[\"prices\"]=  prices[i].text\n",
    "        model_info[\"dimension\"]=  dimensions[i].text\n",
    "        model_info[\"finish\"]=  finishs.text\n",
    "        model_info[\"technology\"] =technology[0].text\n",
    "        model_info[\"material\"]=  materials[i].text\n",
    "        \n",
    "        \n",
    "        \n",
    "        model_info_list.append(model_info)\n",
    "\n",
    "    #pd.DataFrame({'dimensions': ['265.0 x 46.4 x 8.4 mm', '1024.0 x 768.0 x 32.0 mm', '500.0 x 200.0 x 100.0 mm']})\n",
    "    #df[['x', 'y', 'z']] = df['Column1'].str.split(',', expand=True)\n",
    "\n",
    "    df = pd.DataFrame(model_info_list)\n",
    "\n",
    "    return df\n",
    "\n",
    "    df\n"
   ]
  },
  {
   "cell_type": "code",
   "execution_count": 20,
   "id": "00351b15",
   "metadata": {},
   "outputs": [
    {
     "name": "stdout",
     "output_type": "stream",
     "text": [
      "The data frame of model information:\n",
      "        name  prices               dimension     finish technology  \\\n",
      "0  first.stl  $33.92  138.0 x 34.0 x 14.5 mm  No Finish        FDM   \n",
      "\n",
      "      material  \n",
      "0  ABS (black)  \n"
     ]
    }
   ],
   "source": [
    "\n",
    "data = extract_3DModel()\n",
    "print(data)\n"
   ]
  },
  {
   "cell_type": "code",
   "execution_count": 21,
   "id": "15a59912",
   "metadata": {},
   "outputs": [],
   "source": [
    "data.to_csv('fathom smart quote.csv', index=False)"
   ]
  },
  {
   "cell_type": "code",
   "execution_count": null,
   "id": "f7f31a54",
   "metadata": {},
   "outputs": [],
   "source": [
    "# this scrit use it one time to change the name of the models without special caracters\n",
    "import os\n",
    "import re\n",
    "\n",
    "path = (r\"C:\\3D\")\n",
    "\n",
    "files = [f for f in os.listdir(path)]\n",
    "\n",
    "for i, file in enumerate(files):\n",
    "    file_name, file_extension = os.path.splitext(file)\n",
    "    new_file_name = re.sub(r'[^a-zA-Z0-9]+', '', file_name) + file_extension\n",
    "    new_file_name = str(i + 1) + new_file_name\n",
    "    old_file_path = os.path.join(path, file)\n",
    "    new_file_path = os.path.join(path, new_file_name)\n",
    "    os.rename(old_file_path, new_file_path)"
   ]
  },
  {
   "cell_type": "code",
   "execution_count": null,
   "id": "39617b0f",
   "metadata": {},
   "outputs": [],
   "source": [
    "# this scrit use it one time to remove all models deffrent than .stl and .step\n",
    "import os\n",
    "\n",
    "folder_path = r'C:\\3D'  # replace with actual folder path\n",
    "\n",
    "for filename in os.listdir(folder_path):\n",
    "    if filename.lower().endswith('.step') or filename.lower().endswith('.stl'):\n",
    "        \n",
    "        continue  # skip files with desired extensions\n",
    "    file_path = os.path.join(folder_path, filename)\n",
    "    if os.path.isfile(file_path):\n",
    "        os.remove(file_path)  # delete other files"
   ]
  },
  {
   "cell_type": "code",
   "execution_count": null,
   "id": "cf4a2ffb",
   "metadata": {},
   "outputs": [],
   "source": [
    "import os\n",
    "\n",
    "\n",
    "smallsize = []\n",
    "hightsize = []\n",
    "os.chdir(r\"C:\\3D\")\n",
    "\n",
    "for f in os.listdir():\n",
    "    if os.path.getsize(f) >= 1000000:\n",
    "        hightsize.append(f)\n",
    "    else:\n",
    "        smallsize.append(f)\n",
    "data = pd.DataFrame()"
   ]
  },
  {
   "cell_type": "code",
   "execution_count": null,
   "id": "388b643b",
   "metadata": {
    "scrolled": true
   },
   "outputs": [],
   "source": [
    "print(data)"
   ]
  },
  {
   "cell_type": "code",
   "execution_count": null,
   "id": "8a6ac3ce",
   "metadata": {},
   "outputs": [],
   "source": [
    "import pyautogui"
   ]
  },
  {
   "cell_type": "code",
   "execution_count": null,
   "id": "f1f54331",
   "metadata": {},
   "outputs": [],
   "source": [
    "from selenium.common.exceptions import TimeoutException\n",
    "\n",
    "counter = 0\n",
    "# Sort the files based on their modification time in descending order\n",
    "smallsize = sorted(smallsize, key=lambda x: os.path.getmtime(x), reverse=True)\n",
    "\n",
    "for file in smallsize :\n",
    "    wait = WebDriverWait(browser, 30)\n",
    "    Upload1 = wait.until(EC.element_to_be_clickable(('class name', 'button-upload')))\n",
    "    Upload1.click()\n",
    "    \n",
    "    Upload2 = wait.until(EC.element_to_be_clickable(('class name', 'file-uploader-placeholder')))\n",
    "    Upload2.click()\n",
    "    \n",
    "    \n",
    "    pyautogui.typewrite(\"models\")\n",
    "    time.sleep(1)\n",
    "    \n",
    "    #pyautogui.scroll(\"second.step\")\n",
    "    pyautogui.typewrite(\"second.stl\")\n",
    "    time.sleep(1)\n",
    "    pyautogui.press('enter')\n",
    "    counter+=1\n",
    "    morefiles=browser.find_element('xpath','//*[@id=\"app\"]/div/div/div[1]/div[1]/main/div[3]/div[2]/div/div/div[2]/div/div/div[3]/button')\n",
    "    morefiles.click()\n",
    "    sleep(5)\n",
    "    pyautogui.scroll(10000000)\n",
    "  \n",
    "    sleep(3)\n",
    "   \n",
    "        \n",
    "    mm = WebDriverWait(browser, 5).until(EC.element_to_be_clickable(('class name', 'input-toggle__btn')))\n",
    "    mm.click()\n",
    "    time.sleep(5)\n",
    "    button= WebDriverWait(browser, 5).until(EC.element_to_be_clickable(('class name', 'button-primary')))\n",
    "    button.click()\n",
    "    \n",
    "    \n",
    "    FDMcheck()\n",
    "    extracted_data = extract_3DModel()\n",
    "    \n",
    "    if counter % 10==0 :\n",
    "        Delete = WebDriverWait(browser, 3).until(EC.element_to_be_clickable(('class name','part__cell part__cell--checkbox')))\n",
    "        Delete.click()\n",
    "        Deletecheck = WebDriverWait(browser, 3).until(EC.element_to_be_clickable(('xpath', 'parts-table__btn parts-table__btn--delete')))\n",
    "        Deletecheck.click()\n",
    "        sleep(3)\n",
    "        browser.refresh()        \n",
    "        sleep(3)\n",
    "    data = data.append(extracted_data, ignore_index=True)\n",
    "    smallsize = smallsize[5:] # remove the first 2 files  the problem when the counter is == 2  he is not doing the if statment\n",
    "        \n",
    "    \n",
    "   "
   ]
  },
  {
   "cell_type": "markdown",
   "id": "55fedc9d",
   "metadata": {},
   "source": [
    "\n"
   ]
  },
  {
   "cell_type": "code",
   "execution_count": null,
   "id": "1fba8af4",
   "metadata": {},
   "outputs": [],
   "source": []
  }
 ],
 "metadata": {
  "kernelspec": {
   "display_name": "Python 3 (ipykernel)",
   "language": "python",
   "name": "python3"
  },
  "language_info": {
   "codemirror_mode": {
    "name": "ipython",
    "version": 3
   },
   "file_extension": ".py",
   "mimetype": "text/x-python",
   "name": "python",
   "nbconvert_exporter": "python",
   "pygments_lexer": "ipython3",
   "version": "3.9.12"
  }
 },
 "nbformat": 4,
 "nbformat_minor": 5
}
